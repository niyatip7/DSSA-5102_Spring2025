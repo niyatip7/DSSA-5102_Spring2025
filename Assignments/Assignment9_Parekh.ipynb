{
 "cells": [
  {
   "cell_type": "markdown",
   "id": "f369c6ca",
   "metadata": {},
   "source": [
    "# Assignment #9 - Data Gathering and Warehousing - DSSA-5102\n",
    "\n",
    "Instructor: Melissa Laurino</br>\n",
    "Spring 2025</br>\n",
    "\n",
    "Name: Niyati Parekh\n",
    "</br>\n",
    "Date: 4/20/25\n",
    "<br>\n",
    "<br>\n",
    "**At this time in the semester:** <br>\n",
    "- We have explored a dataset. <br>\n",
    "- We have cleaned our dataset. <br>\n",
    "- We created a Github account with a repository for this class and included a metadata read me file about our data. <br>\n",
    "- We introduced general SQL syntax, queries, and applications in Python.<br>\n",
    "- Created our own databases from scratch using MySQL Workbench and Python with SQLAlchemy on our local server and locally on our machine.\n",
    "- Populated our databases with the data we cleaned at the start of the semester.\n",
    "<br>\n",
    "\n",
    "At this point, we have discussed all major statements used with SQL, but the possibilities are endless when it comes to data! Below we will explore some miscellaneous statements and tools that may be useful with your database.<br>\n",
    "\n",
    "<br>\n",
    "\n",
    "Read Chapter 7 & 10 in Getting Started with SQL by Thomas Nield available on Blackboard. <br>\n",
    "A quick reference for SQL commands: https://www.w3schools.com/sql/default.asp <br>\n",
    "\n",
    "Review the powerpoint and other readings specified on Blackboard in the Discussion Board.<br>\n",
    "\n",
    "In the event your database does not meet the requirements below to answer the question, please use the database provided in Assignment #4 and #5. Remember to credit your data source, especially when posting your assignments to Github.<br>\n",
    "\n",
    "Feel free to use your preferred library and method for the exploration below. Now that all of our data is loaded onto the MySQL Workbench server, you can even take the assignment a step further and complete it all within SQL without Jupyter Notebook!<br>\n",
    "\n",
    "Follow the instructions below to complete the assignment. Be sure to comment **all** code and answer **all** questions in markdown for full credit. Please submit this assignment with a link to it posted to your Github.<br>\n",
    "\n",
    "**Data origin:** "
   ]
  },
  {
   "cell_type": "code",
   "execution_count": 3,
   "id": "4b6bbe50",
   "metadata": {},
   "outputs": [],
   "source": [
    "# Load necessary packages:\n",
    "from sqlalchemy import create_engine, inspect, Column, String, Integer, Boolean, BigInteger, Float, text # Database navigation\n",
    "from sqlalchemy.ext.declarative import declarative_base\n",
    "from sqlalchemy.orm import sessionmaker\n",
    "import mysql.connector\n",
    "import sqlite3 \n",
    "import pandas as pd # Python data manilpulation\n",
    "import numpy as np # Populating tables "
   ]
  },
  {
   "cell_type": "code",
   "execution_count": 108,
   "id": "dee1fe50-5f1a-45c6-8c65-c94c9b05969c",
   "metadata": {},
   "outputs": [],
   "source": [
    "# Setting working directory \n",
    "import os\n",
    "os.chdir(r\"C:\\Users\\parni\\OneDrive\\Desktop\\DSSA\\DGW\")"
   ]
  },
  {
   "cell_type": "code",
   "execution_count": 7,
   "id": "f61dba89",
   "metadata": {},
   "outputs": [
    {
     "name": "stdout",
     "output_type": "stream",
     "text": [
      "Engine(sqlite:///C:\\Users\\parni\\OneDrive\\Desktop\\DSSA\\DGW\\sql-murder-mystery (3).db)\n"
     ]
    }
   ],
   "source": [
    "#connect to database file using SQLite\n",
    "db_path = r\"C:\\Users\\parni\\OneDrive\\Desktop\\DSSA\\DGW\\sql-murder-mystery (3).db\" \n",
    "engine = create_engine(f\"sqlite:///{db_path}\") # Use the create_engine function to connect to the database\n",
    "print(engine) "
   ]
  },
  {
   "cell_type": "code",
   "execution_count": 9,
   "id": "66a45f86-d483-4726-8c2b-a0fdb4bf2df8",
   "metadata": {},
   "outputs": [
    {
     "name": "stdout",
     "output_type": "stream",
     "text": [
      "Connection successful!\n"
     ]
    }
   ],
   "source": [
    "#make a connection to the database using the engine\n",
    "with engine.connect() as connection:\n",
    "    #if the connection is successful print the statement  \n",
    "    print(\"Connection successful!\")"
   ]
  },
  {
   "cell_type": "code",
   "execution_count": 13,
   "id": "4e39d926-e639-4779-8d93-20b37b8686a6",
   "metadata": {},
   "outputs": [
    {
     "name": "stdout",
     "output_type": "stream",
     "text": [
      "['crime_scene_report', 'drivers_license', 'facebook_event_checkin', 'get_fit_now_check_in', 'get_fit_now_member', 'income', 'interview', 'person', 'solution']\n"
     ]
    }
   ],
   "source": [
    "# Write a query to list the table names of the database:\n",
    "\n",
    "#create an inspector object to analyze the databse\n",
    "inspector = inspect(engine)\n",
    "\n",
    "#print table names using a built in function \n",
    "table_names = inspector.get_table_names()\n",
    "print(table_names)"
   ]
  },
  {
   "cell_type": "code",
   "execution_count": 15,
   "id": "04ae22e7-2702-489a-881c-6093d33b7061",
   "metadata": {},
   "outputs": [
    {
     "name": "stdout",
     "output_type": "stream",
     "text": [
      "The table names are: ['Crime Scene Report', 'Drivers License', 'Facebook Event Checkin', 'Get Fit Now Check In', 'Get Fit Now Member', 'Income', 'Interview', 'Person', 'Solution']\n"
     ]
    }
   ],
   "source": [
    "#store a cleaner variable of all table names \n",
    "#replaces the underscore with a space and capitalizes each word\n",
    "clean_table_names = [name.replace('_', ' ').title() for name in table_names]\n",
    "\n",
    "#print a statement of all table names \n",
    "print(\"The table names are:\", clean_table_names)"
   ]
  },
  {
   "cell_type": "markdown",
   "id": "40c58ed6",
   "metadata": {},
   "source": [
    "#### CASE Statements\n",
    "Case statements are similar to the if-then-else statements in programming. The data that meets the case statements in the database will be returned. You start a CASE statement with the word CASE and conclude it with an END. Between those keywords, you specify each condition with a WHEN [condition] THEN [value], where the condition and the values are specified by you.\n",
    "\n",
    "Nield, Thomas. Getting Started with SQL (p. 71). O'Reilly Media. Kindle Edition. <br>\n",
    "<br>\n",
    "Write your question you are answering with your data query. <br>\n",
    "<br>\n",
    "**Example Question:** Are people in SQL city lower income, middle-income, or upper income households?\n",
    "<br>\n",
    "**What tables are we joining? (If any):** people and income tables "
   ]
  },
  {
   "cell_type": "code",
   "execution_count": 19,
   "id": "1a4ca6e9",
   "metadata": {},
   "outputs": [
    {
     "name": "stdout",
     "output_type": "stream",
     "text": [
      "                     name        ssn  annual_income income_level\n",
      "0      Christoper Peteuil  747714076          31000       Middle\n",
      "1     Kourtney Calderwood  477972044          24000       Middle\n",
      "2               Muoi Cary  828638512          14800        Lower\n",
      "3             Era Moselle  614621061          47400       Middle\n",
      "4         Antione Godbolt  491650087          79300        Upper\n",
      "...                   ...        ...            ...          ...\n",
      "7509          Luba Benser  685095054          35100       Middle\n",
      "7510      Roxana Mckimley  512136801          80100        Upper\n",
      "7511      Cherie Zeimantz  362877324          70200       Middle\n",
      "7512          Allen Cruse  348734531          78500        Upper\n",
      "7513         Vance Hunten  896677562          11000        Lower\n",
      "\n",
      "[7514 rows x 4 columns]\n"
     ]
    }
   ],
   "source": [
    "#make a connection to the database using the engine\n",
    "with engine.connect() as connection:\n",
    "    #define the query to join the people and income tables and then classify each person's income as lower (< $15k),middle (>= $16k and ,$75k), or upper level income (>$75k) \n",
    "    query = text(\"\"\"\n",
    "        SELECT\n",
    "            person.name,\n",
    "            income.ssn,\n",
    "            income.annual_income,\n",
    "        CASE \n",
    "            WHEN income.annual_income < 15000 THEN 'Lower'\n",
    "            WHEN income.annual_income >= 16000 AND income.annual_income < 75000 THEN 'Middle'\n",
    "            ELSE 'Upper'\n",
    "        END AS income_level\n",
    "        FROM person\n",
    "        JOIN income ON person.ssn = income.ssn;\n",
    "    \"\"\")\n",
    "    #execute query \n",
    "    income_level = pd.read_sql(query, connection)\n",
    "\n",
    "print(income_level)"
   ]
  },
  {
   "cell_type": "code",
   "execution_count": 81,
   "id": "850a4e14-6e75-48bb-b0eb-6af1574ff59d",
   "metadata": {},
   "outputs": [
    {
     "name": "stdout",
     "output_type": "stream",
     "text": [
      "Middle    5467\n",
      "Upper    1577\n",
      "Lower    470\n"
     ]
    }
   ],
   "source": [
    "#create a place to store how many of each income levels exist \n",
    "count_income_levels = income_level['income_level'].value_counts()\n",
    "\n",
    "#print a clean list of each income level \n",
    "for level, count in count_income_levels.items():\n",
    "    print(f\"{level}    {count}\")"
   ]
  },
  {
   "cell_type": "markdown",
   "id": "db5bb8cc",
   "metadata": {},
   "source": [
    "**CASE STATEMENT**\n",
    "<br>\n",
    "Write a second CASE statement!\n",
    "\n",
    "Write your question you are answering with your data query. <br>\n",
    "<br>\n",
    "**Question:** What type of dirvers license does each person have in SQL City (assuming everyone followed the typical route of passin road test and written test at 16 or 17)? \n",
    "<br>\n",
    "**What tables are we joining? (If any):** person and drivers license "
   ]
  },
  {
   "cell_type": "code",
   "execution_count": 23,
   "id": "aaeb520d",
   "metadata": {},
   "outputs": [
    {
     "name": "stdout",
     "output_type": "stream",
     "text": [
      "                      name  license_id  age  license_id          license_type\n",
      "0       Christoper Peteuil      993845   46      993845  Non Restricted Basic\n",
      "1      Kourtney Calderwood      861794   54      861794  Non Restricted Basic\n",
      "2                Muoi Cary      385336   24      385336  Non Restricted Basic\n",
      "3              Era Moselle      431897   22      431897  Non Restricted Basic\n",
      "4             Trena Hornby      550890   45      550890  Non Restricted Basic\n",
      "...                    ...         ...  ...         ...                   ...\n",
      "10001          Luba Benser      274427   26      274427  Non Restricted Basic\n",
      "10002      Roxana Mckimley      975942   87      975942  Non Restricted Basic\n",
      "10003      Cherie Zeimantz      287627   29      287627  Non Restricted Basic\n",
      "10004          Allen Cruse      251350   66      251350  Non Restricted Basic\n",
      "10005         Vance Hunten      830407   61      830407  Non Restricted Basic\n",
      "\n",
      "[10006 rows x 5 columns]\n"
     ]
    }
   ],
   "source": [
    "#make a connection to the database using the engine\n",
    "with engine.connect() as connection:\n",
    "    #define the query to join the people and drivers license tables and then classify each person's license as probationary (< 18), Restricted Basic (>= 18 and , > 21), or  non Restricted Basic (>21) \n",
    "    query = text(\"\"\"\n",
    "        SELECT\n",
    "            person.name,\n",
    "            person.license_id,\n",
    "            drivers_license.age,\n",
    "            drivers_license.id AS license_id,\n",
    "        CASE \n",
    "            WHEN drivers_license.age < 18 THEN 'Probationary'\n",
    "            WHEN drivers_license.age >= 18 AND drivers_license.age < 21 THEN 'Restricted Basic' \n",
    "            ELSE 'Non Restricted Basic'\n",
    "        END AS license_type\n",
    "        FROM person\n",
    "        JOIN drivers_license ON person.license_id = drivers_license.id;\n",
    "    \"\"\")\n",
    "    #execute query \n",
    "    license_type = pd.read_sql(query, connection)\n",
    "\n",
    "print(license_type)"
   ]
  },
  {
   "cell_type": "code",
   "execution_count": 25,
   "id": "a2624843-f714-43ff-9fde-9cc69bcdedce",
   "metadata": {},
   "outputs": [
    {
     "name": "stdout",
     "output_type": "stream",
     "text": [
      "Non Restricted Basic    9581\n",
      "Restricted Basic    425\n"
     ]
    }
   ],
   "source": [
    "#create a place to store how many of each license types exist \n",
    "count_license = license_type['license_type'].value_counts()\n",
    "\n",
    "#print a clean list of each type \n",
    "for level, count in count_license.items():\n",
    "    print(f\"{level}    {count}\")"
   ]
  },
  {
   "cell_type": "markdown",
   "id": "ccbfb111",
   "metadata": {},
   "source": [
    "**CASE STATEMENT**\n",
    "<br>\n",
    "Write a third CASE statement!\n",
    "\n",
    "Write your question you are answering with your data query. <br>\n",
    "<br>\n",
    "**Question:** Are males in SQL city tall, short, or average height?\n",
    "<br>\n",
    "**What tables are we joining? (If any):** Person and drivers license "
   ]
  },
  {
   "cell_type": "code",
   "execution_count": 27,
   "id": "f43042fe",
   "metadata": {},
   "outputs": [
    {
     "data": {
      "text/html": [
       "<div>\n",
       "<style scoped>\n",
       "    .dataframe tbody tr th:only-of-type {\n",
       "        vertical-align: middle;\n",
       "    }\n",
       "\n",
       "    .dataframe tbody tr th {\n",
       "        vertical-align: top;\n",
       "    }\n",
       "\n",
       "    .dataframe thead th {\n",
       "        text-align: right;\n",
       "    }\n",
       "</style>\n",
       "<table border=\"1\" class=\"dataframe\">\n",
       "  <thead>\n",
       "    <tr style=\"text-align: right;\">\n",
       "      <th></th>\n",
       "      <th>name</th>\n",
       "      <th>license_id</th>\n",
       "      <th>gender</th>\n",
       "      <th>license_id</th>\n",
       "      <th>height</th>\n",
       "      <th>height_category</th>\n",
       "    </tr>\n",
       "  </thead>\n",
       "  <tbody>\n",
       "    <tr>\n",
       "      <th>0</th>\n",
       "      <td>Christoper Peteuil</td>\n",
       "      <td>993845</td>\n",
       "      <td>male</td>\n",
       "      <td>993845</td>\n",
       "      <td>59</td>\n",
       "      <td>Short</td>\n",
       "    </tr>\n",
       "    <tr>\n",
       "      <th>1</th>\n",
       "      <td>Kourtney Calderwood</td>\n",
       "      <td>861794</td>\n",
       "      <td>female</td>\n",
       "      <td>861794</td>\n",
       "      <td>74</td>\n",
       "      <td>Tall</td>\n",
       "    </tr>\n",
       "    <tr>\n",
       "      <th>2</th>\n",
       "      <td>Muoi Cary</td>\n",
       "      <td>385336</td>\n",
       "      <td>female</td>\n",
       "      <td>385336</td>\n",
       "      <td>79</td>\n",
       "      <td>Tall</td>\n",
       "    </tr>\n",
       "    <tr>\n",
       "      <th>3</th>\n",
       "      <td>Era Moselle</td>\n",
       "      <td>431897</td>\n",
       "      <td>female</td>\n",
       "      <td>431897</td>\n",
       "      <td>75</td>\n",
       "      <td>Tall</td>\n",
       "    </tr>\n",
       "    <tr>\n",
       "      <th>4</th>\n",
       "      <td>Trena Hornby</td>\n",
       "      <td>550890</td>\n",
       "      <td>female</td>\n",
       "      <td>550890</td>\n",
       "      <td>60</td>\n",
       "      <td>Tall</td>\n",
       "    </tr>\n",
       "    <tr>\n",
       "      <th>...</th>\n",
       "      <td>...</td>\n",
       "      <td>...</td>\n",
       "      <td>...</td>\n",
       "      <td>...</td>\n",
       "      <td>...</td>\n",
       "      <td>...</td>\n",
       "    </tr>\n",
       "    <tr>\n",
       "      <th>10001</th>\n",
       "      <td>Luba Benser</td>\n",
       "      <td>274427</td>\n",
       "      <td>female</td>\n",
       "      <td>274427</td>\n",
       "      <td>55</td>\n",
       "      <td>Tall</td>\n",
       "    </tr>\n",
       "    <tr>\n",
       "      <th>10002</th>\n",
       "      <td>Roxana Mckimley</td>\n",
       "      <td>975942</td>\n",
       "      <td>female</td>\n",
       "      <td>975942</td>\n",
       "      <td>54</td>\n",
       "      <td>Tall</td>\n",
       "    </tr>\n",
       "    <tr>\n",
       "      <th>10003</th>\n",
       "      <td>Cherie Zeimantz</td>\n",
       "      <td>287627</td>\n",
       "      <td>female</td>\n",
       "      <td>287627</td>\n",
       "      <td>58</td>\n",
       "      <td>Tall</td>\n",
       "    </tr>\n",
       "    <tr>\n",
       "      <th>10004</th>\n",
       "      <td>Allen Cruse</td>\n",
       "      <td>251350</td>\n",
       "      <td>male</td>\n",
       "      <td>251350</td>\n",
       "      <td>61</td>\n",
       "      <td>Average</td>\n",
       "    </tr>\n",
       "    <tr>\n",
       "      <th>10005</th>\n",
       "      <td>Vance Hunten</td>\n",
       "      <td>830407</td>\n",
       "      <td>male</td>\n",
       "      <td>830407</td>\n",
       "      <td>76</td>\n",
       "      <td>Tall</td>\n",
       "    </tr>\n",
       "  </tbody>\n",
       "</table>\n",
       "<p>10006 rows × 6 columns</p>\n",
       "</div>"
      ],
      "text/plain": [
       "                      name  license_id  gender  license_id  height  \\\n",
       "0       Christoper Peteuil      993845    male      993845      59   \n",
       "1      Kourtney Calderwood      861794  female      861794      74   \n",
       "2                Muoi Cary      385336  female      385336      79   \n",
       "3              Era Moselle      431897  female      431897      75   \n",
       "4             Trena Hornby      550890  female      550890      60   \n",
       "...                    ...         ...     ...         ...     ...   \n",
       "10001          Luba Benser      274427  female      274427      55   \n",
       "10002      Roxana Mckimley      975942  female      975942      54   \n",
       "10003      Cherie Zeimantz      287627  female      287627      58   \n",
       "10004          Allen Cruse      251350    male      251350      61   \n",
       "10005         Vance Hunten      830407    male      830407      76   \n",
       "\n",
       "      height_category  \n",
       "0               Short  \n",
       "1                Tall  \n",
       "2                Tall  \n",
       "3                Tall  \n",
       "4                Tall  \n",
       "...               ...  \n",
       "10001            Tall  \n",
       "10002            Tall  \n",
       "10003            Tall  \n",
       "10004         Average  \n",
       "10005            Tall  \n",
       "\n",
       "[10006 rows x 6 columns]"
      ]
     },
     "execution_count": 27,
     "metadata": {},
     "output_type": "execute_result"
    }
   ],
   "source": [
    "#make a connection to the database using the engine\n",
    "with engine.connect() as connection:\n",
    "    #define the query to classify male height as short( <60 in), ave (>= 60 in but <= 74 in), tall (<74)\n",
    "    query = text(\"\"\"\n",
    "        SELECT \n",
    "            person.name,\n",
    "            person.license_id,\n",
    "            drivers_license.gender,\n",
    "            drivers_license.id AS license_id,\n",
    "            drivers_license.height, \n",
    "        CASE \n",
    "            WHEN drivers_license.gender = 'male' AND drivers_license.height < 60 THEN 'Short'\n",
    "            WHEN drivers_license.gender = 'male' AND drivers_license.height BETWEEN 60 AND 74 THEN 'Average'\n",
    "            ELSE 'Tall'\n",
    "        END AS height_category\n",
    "        FROM person\n",
    "        JOIN drivers_license ON person.license_id = drivers_license.id;\n",
    "    \"\"\")\n",
    "    male_height_category = pd.read_sql(query, connection)\n",
    "\n",
    "male_height_category\n"
   ]
  },
  {
   "cell_type": "code",
   "execution_count": 29,
   "id": "f86e8d1f-cc0e-495f-b2f9-f125d88ef8a9",
   "metadata": {},
   "outputs": [
    {
     "name": "stdout",
     "output_type": "stream",
     "text": [
      "Tall    6210\n",
      "Average    2267\n",
      "Short    1529\n"
     ]
    }
   ],
   "source": [
    "#create a place to store how many of each license types exist \n",
    "count_height = male_height_category['height_category'].value_counts()\n",
    "\n",
    "#print a clean list of each type \n",
    "for level, count in count_height.items():\n",
    "    print(f\"{level}    {count}\")"
   ]
  },
  {
   "cell_type": "markdown",
   "id": "00dfccbc",
   "metadata": {},
   "source": [
    "**NULL**\n",
    "<br>\n",
    "As with all data, NULL values are fields with no data. Null data can be useful to know with the INSERT INTO statement below.\n",
    "\n",
    "Find the NULL data within your database. Write your question you are answering with your data query. <br>\n",
    "<br>\n",
    "**Question:**  Is there anyone who did not give an interview?\n",
    "<br>"
   ]
  },
  {
   "cell_type": "code",
   "execution_count": 31,
   "id": "c9a4a2ea-db21-4f52-8e77-e5015e019baf",
   "metadata": {},
   "outputs": [
    {
     "name": "stdout",
     "output_type": "stream",
     "text": [
      "         id                name person_id transcript\n",
      "0     10000  Christoper Peteuil      None       None\n",
      "1     10010           Muoi Cary      None       None\n",
      "2     10126      Denver Barness      None       None\n",
      "3     10127     Yessenia Fossen      None       None\n",
      "4     10145      Adolfo Milbury      None       None\n",
      "...     ...                 ...       ...        ...\n",
      "5015  99924      Palmer Servano      None       None\n",
      "5016  99928       Jade Gardenas      None       None\n",
      "5017  99941     Roxana Mckimley      None       None\n",
      "5018  99982         Allen Cruse      None       None\n",
      "5019  99990        Vance Hunten      None       None\n",
      "\n",
      "[5020 rows x 4 columns]\n"
     ]
    }
   ],
   "source": [
    "with engine.connect() as connection:\n",
    "    #define query to join the person table with the interview table to list all people that do not have an interview\n",
    "    query = text(\"\"\"\n",
    "        SELECT \n",
    "            person.id, \n",
    "            person.name,\n",
    "            interview.person_id, \n",
    "            interview.transcript\n",
    "        FROM person\n",
    "        LEFT JOIN interview ON person.id = interview.person_id\n",
    "        WHERE interview.transcript IS NULL;\n",
    "    \"\"\")\n",
    "    no_interview = pd.read_sql(query, connection)\n",
    "\n",
    "print(no_interview)"
   ]
  },
  {
   "cell_type": "markdown",
   "id": "142c2c44-06d7-4152-ad6c-4b0448c7739a",
   "metadata": {},
   "source": [
    "There are **over 5,000 people** who did not give interviews."
   ]
  },
  {
   "cell_type": "markdown",
   "id": "501a12a4",
   "metadata": {},
   "source": [
    "**INSERT INTO**\n",
    "<br>\n",
    "You can insert new records into a table as needed using the INSERT INTO statement. If you choose to populate a table with certain records and not others, the rest of the fields will remain empty/NULL.\n",
    "<br>\n",
    "For INSERT INTO, we are not querying the database, instead we are ADDING to it. We do not need to use dbGetQuery(), but instead, dbExecute()!\n",
    "<br><br>\n",
    "**Objective:** Pick 10 people and add this line: \"I do not wish to provide an interview\" in the interview table. \n",
    "<br>\n",
    "**What table(s) are we adding a record to?** interview "
   ]
  },
  {
   "cell_type": "code",
   "execution_count": 112,
   "id": "2f64f50d",
   "metadata": {},
   "outputs": [
    {
     "name": "stdout",
     "output_type": "stream",
     "text": [
      "Inserted 10 interview records with opt-out message.\n"
     ]
    }
   ],
   "source": [
    "#make a list of ids to add to the person id column \n",
    "person_id = [1, 2, 3, 4, 5, 6, 7, 8, 9, 10]\n",
    "\n",
    "with engine.connect() as connection:\n",
    "    #insert the transcript for each person \n",
    "    for person_id in person_id:\n",
    "        query = text(\"\"\"\n",
    "            INSERT INTO interview (person_id, transcript)\n",
    "            VALUES (:person_id, :transcript)\n",
    "        \"\"\")\n",
    "        #execute adding the text for the transcript column\n",
    "        connection.execute(query, {\n",
    "            \"person_id\": person_id,\n",
    "            \"transcript\": \"I do not wish to provide an interview.\"})\n",
    "\n",
    "print(\"Inserted 10 interview records with opt-out message.\")"
   ]
  },
  {
   "cell_type": "markdown",
   "id": "eb27ad86",
   "metadata": {},
   "source": [
    "**MIN() and MAX()**\n",
    "<br>\n",
    "You can use these statements alone or in combination with the CASE statemts above.<br>\n",
    "The IN operator in a WHERE clause lets you filter for multiple values at once. You can also exclude certain values by using the NOT IN operator.\n",
    "<br>\n",
    "\n",
    "**Question:** What is the tallest height for males and females?\n",
    "<br>\n",
    "**What table(s) are we joining? (If any)** None, just using the drivers license table"
   ]
  },
  {
   "cell_type": "code",
   "execution_count": 57,
   "id": "4994985e-261b-421f-bcb5-ff4c9d86b2f6",
   "metadata": {},
   "outputs": [
    {
     "name": "stdout",
     "output_type": "stream",
     "text": [
      "   gender  max_male_height  max_female_height\n",
      "0  female              NaN               82.0\n",
      "1    male             84.0                NaN\n"
     ]
    }
   ],
   "source": [
    "with engine.connect() as connection:\n",
    "    #define the query to find the max height for both females and males using the drivers license table \n",
    "    query = text(\"\"\"\n",
    "        SELECT drivers_license.gender,\n",
    "            MAX(CASE WHEN drivers_license.gender = 'male' THEN drivers_license.height ELSE NULL END) as max_male_height,\n",
    "            MAX(CASE WHEN drivers_license.gender = 'female' THEN drivers_license.height ELSE NULL END) as max_female_height\n",
    "        FROM drivers_license\n",
    "        GROUP BY gender\n",
    "    \"\"\")\n",
    "\n",
    "    max_heights = pd.read_sql(query, connection)\n",
    "\n",
    "print(max_heights)\n"
   ]
  },
  {
   "cell_type": "markdown",
   "id": "180391d2-a305-4ed9-8ced-19177f21643f",
   "metadata": {},
   "source": [
    "The max height for males in SQL city is **84 inches or 7ft** and for females it is **82 in or 6'8\" ft**. \n"
   ]
  },
  {
   "cell_type": "markdown",
   "id": "ceb2cc17",
   "metadata": {},
   "source": [
    "Combine CASE statement with Min() and Max() for a more detailed query of your data:\n",
    "<br><br>\n",
    "**Question:** What is the tallest and shortest height for both males and females in SQL City? Find the names of the people who are either the tallest or shortest. \n",
    "<br>\n",
    "**What table(s) are we joining?** person and drivers license "
   ]
  },
  {
   "cell_type": "code",
   "execution_count": 90,
   "id": "581f5376",
   "metadata": {},
   "outputs": [
    {
     "name": "stdout",
     "output_type": "stream",
     "text": [
      "   gender  max_male_height  max_female_height  min_male_height  \\\n",
      "0  female              NaN               82.0              NaN   \n",
      "1    male             84.0                NaN             50.0   \n",
      "\n",
      "   min_female_height  \n",
      "0               50.0  \n",
      "1                NaN  \n"
     ]
    }
   ],
   "source": [
    "with engine.connect() as connection:\n",
    "    #define the query to find the max and min heights for both females and males using the drivers license table \n",
    "    query = text(\"\"\"\n",
    "        SELECT drivers_license.gender,\n",
    "            MAX(CASE WHEN drivers_license.gender = 'male' THEN drivers_license.height ELSE NULL END) as max_male_height,\n",
    "            MAX(CASE WHEN drivers_license.gender = 'female' THEN drivers_license.height ELSE NULL END) as max_female_height,\n",
    "            MIN(CASE WHEN drivers_license.gender = 'male' THEN drivers_license.height ELSE NULL END) as min_male_height,\n",
    "            MIN(CASE WHEN drivers_license.gender = 'female' THEN drivers_license.height ELSE NULL END) as min_female_height\n",
    "        FROM drivers_license\n",
    "        GROUP BY gender\n",
    "    \"\"\")\n",
    "\n",
    "    heights = pd.read_sql(query, connection)\n",
    "\n",
    "print(heights)\n"
   ]
  },
  {
   "cell_type": "code",
   "execution_count": 79,
   "id": "17d2c077-e643-4502-901a-61f231555b79",
   "metadata": {},
   "outputs": [
    {
     "name": "stdout",
     "output_type": "stream",
     "text": [
      "                  name  gender  height\n",
      "0         Daren Cwikla    male      50\n",
      "1         Jovita Crear  female      50\n",
      "2         Hubert Yeddo    male      50\n",
      "3       Sunni Scadlock  female      50\n",
      "4      Guillermo Janda    male      50\n",
      "..                 ...     ...     ...\n",
      "291      Mirna Monette  female      50\n",
      "292   Maria Swartzbeck    male      50\n",
      "293   Anisa Woodbridge  female      50\n",
      "294    Nguyet Marcinka  female      50\n",
      "295  Edwardo Dicamillo    male      50\n",
      "\n",
      "[296 rows x 3 columns]\n"
     ]
    }
   ],
   "source": [
    "with engine.connect() as connection:\n",
    "    #define the query to find the names of each person who is the tallest for both genders \n",
    "    #change the drivers_license.height IN (50)) to either the max or min height for the specific gender\n",
    "    query = text(\"\"\"\n",
    "        SELECT \n",
    "            person.name,\n",
    "            drivers_license.gender,\n",
    "            drivers_license.height\n",
    "        FROM person\n",
    "        JOIN drivers_license ON person.license_id = drivers_license.id\n",
    "        WHERE \n",
    "            (drivers_license.gender = 'male' AND drivers_license.height IN (50))\n",
    "            OR\n",
    "            (drivers_license.gender = 'female' AND drivers_license.height IN (50));\n",
    "    \"\"\")\n",
    "\n",
    "    names_for_theights = pd.read_sql(query, connection)\n",
    "\n",
    "print(names_for_theights)\n"
   ]
  },
  {
   "cell_type": "markdown",
   "id": "f8c2a578-10a0-4e6f-95a5-ff123d2d99a1",
   "metadata": {},
   "source": [
    "There are **157** people that are the **tallest** females and males living in SQL City. \n",
    "<br>\n",
    "There are **296** people that are the **shortest** males and females in SQL City. "
   ]
  },
  {
   "cell_type": "markdown",
   "id": "8b3de393",
   "metadata": {},
   "source": [
    "**MIN() and MAX()** <br>\n",
    "AVG() will take the average of a numeric field.\n",
    "\n",
    "**Question:** What is the average height of males and females? \n",
    "<br>"
   ]
  },
  {
   "cell_type": "code",
   "execution_count": 96,
   "id": "f1e63c19",
   "metadata": {},
   "outputs": [
    {
     "name": "stdout",
     "output_type": "stream",
     "text": [
      "   gender  ave_male_height  ave_female_height\n",
      "0  female              NaN          66.255332\n",
      "1    male        65.853328                NaN\n"
     ]
    }
   ],
   "source": [
    "with engine.connect() as connection:\n",
    "    #define the query to find the ave height for both females and males using the drivers license table \n",
    "    query = text(\"\"\"\n",
    "        SELECT drivers_license.gender,\n",
    "            AVG(CASE WHEN drivers_license.gender = 'male' THEN drivers_license.height ELSE NULL END) as ave_male_height,\n",
    "            AVG(CASE WHEN drivers_license.gender = 'female' THEN drivers_license.height ELSE NULL END) as ave_female_height\n",
    "        FROM drivers_license\n",
    "        GROUP BY gender\n",
    "    \"\"\")\n",
    "\n",
    "    ave_heights = pd.read_sql(query, connection)\n",
    "\n",
    "print(ave_heights)"
   ]
  },
  {
   "cell_type": "markdown",
   "id": "fc987c82-32d9-498f-8c93-bf776f968ad1",
   "metadata": {},
   "source": [
    "The average male height is **65in or 5'4\"** and the average female height is **66.25in or 5'5\"**. Surpringly in SQL City on average women are taller then men. "
   ]
  },
  {
   "cell_type": "markdown",
   "id": "697a553a",
   "metadata": {},
   "source": [
    "Although this query gives us a quick answer, as a stand alone data frame, it is not that useful. We can add it to our longer query above. <br><br>\n",
    "**Aliases (AS)**\n",
    "<br>\n",
    "You can abbreviate your code to make it more visually appealing...or more confusing? :) <br>\n",
    "<br>\n",
    "Examples:<br>\n",
    "FROM table_name t<br>\n",
    "FROM table_name AS t<br>\n",
    "<br>\n",
    "**Objective:** Use abbreviations or aliases for all tables for the same code you wrote above (If you have not done so already). Be sure to obtain the same result set."
   ]
  },
  {
   "cell_type": "code",
   "execution_count": 102,
   "id": "366c4280",
   "metadata": {},
   "outputs": [
    {
     "name": "stdout",
     "output_type": "stream",
     "text": [
      "   gender  ave_male_height  ave_female_height\n",
      "0  female              NaN          66.255332\n",
      "1    male        65.853328                NaN\n"
     ]
    }
   ],
   "source": [
    "with engine.connect() as connection:\n",
    "    #define the query to find the max height for both females and males using the drivers license table \n",
    "    query = text(\"\"\"\n",
    "        SELECT dl.gender,\n",
    "            AVG(CASE WHEN dl.gender = 'male' THEN dl.height ELSE NULL END) as ave_male_height,\n",
    "            AVG(CASE WHEN dl.gender = 'female' THEN dl.height ELSE NULL END) as ave_female_height\n",
    "        FROM drivers_license AS dl\n",
    "        GROUP BY dl.gender\n",
    "    \"\"\")\n",
    "\n",
    "    ave_heights = pd.read_sql(query, connection)\n",
    "\n",
    "print(ave_heights)"
   ]
  },
  {
   "cell_type": "markdown",
   "id": "5c91b2e7",
   "metadata": {},
   "source": [
    "Now we are starting to create multiple new fields that we can save any time as a .csv if needed to access later. Save your result set as a .csv:"
   ]
  },
  {
   "cell_type": "code",
   "execution_count": 112,
   "id": "863fb822",
   "metadata": {},
   "outputs": [
    {
     "name": "stdout",
     "output_type": "stream",
     "text": [
      "   gender  ave_male_height  ave_female_height\n",
      "0  female              NaN          66.255332\n",
      "1    male        65.853328                NaN\n"
     ]
    }
   ],
   "source": [
    "# Save result set as .csv file:\n",
    "ave_heights.to_csv(r\"C:\\Users\\parni\\OneDrive\\Desktop\\DSSA\\DGW\\ave_heights.csv\", index=False)\n",
    "\n",
    "print(ave_heights)"
   ]
  },
  {
   "cell_type": "markdown",
   "id": "4f772ff9",
   "metadata": {},
   "source": [
    "**DELETE** ~Caution!~\n",
    "<br>\n",
    "You can delete all records from specific tables or set a criteria to delete certain values or NULL values without deleting the table itself. It is okay if you do not execute the code if you have completed all data cleaning steps earlier in the semester.<br>\n",
    "<br>\n",
    "If you created autoincrement IDs for any of your data, it is recommended to use TRUNCATE TABLE instead, used the same way. The ID's will automatically reset if needed.<br>\n",
    "<br>\n",
    "**Objective:** Delete all the data from the interview table for the SQL Symphony concert. \n",
    "<br>\n",
    "**What table(s) are we deleting records from?** facebook_event_checkin"
   ]
  },
  {
   "cell_type": "code",
   "execution_count": 148,
   "id": "5c796996",
   "metadata": {},
   "outputs": [
    {
     "name": "stdout",
     "output_type": "stream",
     "text": [
      "All check-ins for the SQL Symphony Concert have been deleted.\n"
     ]
    }
   ],
   "source": [
    "with engine.connect() as connection:\n",
    "    #define the query to dleete all rows where the concert name was SQL Symphony concert \n",
    "    delete_query = text(\"\"\"\n",
    "        DELETE FROM facebook_event_checkin\n",
    "        WHERE event_name = \"SQL Symphony Concert\";\n",
    "    \"\"\")\n",
    "    connection.execute(delete_query)\n",
    "    connection.commit()\n",
    "    print(\"All check-ins for the SQL Symphony Concert have been deleted.\")"
   ]
  },
  {
   "cell_type": "code",
   "execution_count": 154,
   "id": "b4755bda-80d3-4efd-9559-2bbe5f5cb54a",
   "metadata": {},
   "outputs": [
    {
     "name": "stdout",
     "output_type": "stream",
     "text": [
      "Empty DataFrame\n",
      "Columns: [person_id, event_id, event_name, date]\n",
      "Index: []\n",
      "Sucess!\n"
     ]
    }
   ],
   "source": [
    " with engine.connect() as connection:\n",
    "    #define the query to check if the rows have been deleted \n",
    "    query = text(\"\"\"\n",
    "        SELECT *\n",
    "        FROM facebook_event_checkin\n",
    "        WHERE event_name = 'SQL Symphony Concert';\n",
    "    \"\"\")\n",
    "    deleted_rows = pd.read_sql(query, connection)\n",
    "\n",
    "print(deleted_rows)\n",
    "print(f\"Sucess!\")\n"
   ]
  },
  {
   "cell_type": "markdown",
   "id": "e7f7cf8e",
   "metadata": {},
   "source": [
    "We can also delete entire tables in MySQL workbench by manually right clicking on the table and DROP TABLE. <br>\n",
    "MySQL Workbench will prompt you to review the SQL syntax before dropping the table.<br>\n",
    "The syntax is simple:<br>\n",
    "DROP TABLE table_name<br>"
   ]
  },
  {
   "cell_type": "code",
   "execution_count": null,
   "id": "58cbf160",
   "metadata": {},
   "outputs": [],
   "source": [
    "#Close the database connection :)\n",
    "connection.close()"
   ]
  },
  {
   "cell_type": "markdown",
   "id": "0ff1d169",
   "metadata": {},
   "source": [
    "**STOP**<br>\n",
    "Before you submit, did you comment all your code?<br>\n",
    "Did you answer all of the questions in the markdown cells?<br>\n",
    "Did you rename the file and write your name at the top of the .pynb?<br>\n",
    "Attach the .csv file you created with your Blackboard submission. It is preferred that you submit your Github link instead of the file itself."
   ]
  },
  {
   "cell_type": "code",
   "execution_count": null,
   "id": "8b831e07",
   "metadata": {},
   "outputs": [],
   "source": []
  }
 ],
 "metadata": {
  "kernelspec": {
   "display_name": "Python [conda env:base] *",
   "language": "python",
   "name": "conda-base-py"
  },
  "language_info": {
   "codemirror_mode": {
    "name": "ipython",
    "version": 3
   },
   "file_extension": ".py",
   "mimetype": "text/x-python",
   "name": "python",
   "nbconvert_exporter": "python",
   "pygments_lexer": "ipython3",
   "version": "3.12.7"
  }
 },
 "nbformat": 4,
 "nbformat_minor": 5
}
