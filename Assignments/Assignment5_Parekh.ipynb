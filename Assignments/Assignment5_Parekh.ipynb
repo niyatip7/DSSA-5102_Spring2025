{
 "cells": [
  {
   "cell_type": "markdown",
   "id": "ae743577-a970-451b-948f-d528d21c63d8",
   "metadata": {},
   "source": [
    "# In Class Activity - Spotify Database - SQL Practice"
   ]
  },
  {
   "cell_type": "markdown",
   "id": "648408a3-f1b6-4f97-9cc2-2d740b59d5d2",
   "metadata": {},
   "source": [
    "Instructor: Melissa Laurino</br>\n",
    "Spring 2025</br>\n",
    "\n",
    "Name: Niyati Parekh \n",
    "</br>\n",
    "Date: 02/20/2025\n",
    "<br>\n",
    "<br>"
   ]
  },
  {
   "cell_type": "code",
   "execution_count": 7,
   "id": "c93e0d77-aebd-4c66-a2b2-6b9cd7933bc8",
   "metadata": {},
   "outputs": [],
   "source": [
    "# Load necessary packages:\n",
    "from sqlalchemy import create_engine, inspect, text # Database navigation\n",
    "import sqlite3 # A second option for working with databases\n",
    "import pandas as pd # Python data manilpulation"
   ]
  },
  {
   "cell_type": "code",
   "execution_count": 9,
   "id": "51763e7c-c15f-496d-9bdf-3b03e81a4189",
   "metadata": {},
   "outputs": [],
   "source": [
    "# Set working directory (If needed)\n",
    "import os\n",
    "os.chdir(r\"C:\\Users\\parni\\OneDrive\\Desktop\\DSSA\\DGW\")"
   ]
  },
  {
   "cell_type": "code",
   "execution_count": 128,
   "id": "09436b30-c735-4629-8bb3-6a5a2925046a",
   "metadata": {},
   "outputs": [],
   "source": [
    "# Create a SQLite database and engine\n",
    "#names the datebase to db_file\n",
    "db_file = \"spotify_data.db\" \n",
    "#connects Python to SQLite datebase allowing to run queries \n",
    "engine = create_engine(f\"sqlite:///{db_file}\")"
   ]
  },
  {
   "cell_type": "code",
   "execution_count": 130,
   "id": "74700106-a8d3-48b5-8eb5-2acf9c8a5450",
   "metadata": {},
   "outputs": [
    {
     "name": "stdout",
     "output_type": "stream",
     "text": [
      "Columns in spotify_history table:\n",
      "ts - TEXT\n",
      "platform - TEXT\n",
      "ms_played - BIGINT\n",
      "conn_country - TEXT\n",
      "ip_addr - TEXT\n",
      "master_metadata_track_name - TEXT\n",
      "master_metadata_album_artist_name - TEXT\n",
      "master_metadata_album_album_name - TEXT\n",
      "spotify_track_uri - TEXT\n",
      "episode_name - FLOAT\n",
      "episode_show_name - FLOAT\n",
      "spotify_episode_uri - FLOAT\n",
      "audiobook_title - FLOAT\n",
      "audiobook_uri - FLOAT\n",
      "audiobook_chapter_uri - FLOAT\n",
      "audiobook_chapter_title - FLOAT\n",
      "reason_start - TEXT\n",
      "reason_end - TEXT\n",
      "shuffle - BOOLEAN\n",
      "skipped - BOOLEAN\n",
      "offline - BOOLEAN\n",
      "offline_timestamp - FLOAT\n",
      "incognito_mode - BOOLEAN\n",
      "year - BIGINT\n"
     ]
    }
   ],
   "source": [
    "# Inspect the database to list the fields\n",
    "#use the inspect() function to create an object to run some tests \n",
    "inspector = inspect(engine)\n",
    "columns = inspector.get_columns(\"spotify_history\")\n",
    "\n",
    "# Print column names with the title \n",
    "print(\"Columns in spotify_history table:\")\n",
    "#the format to have the column name - and type of the column \n",
    "for col in columns:\n",
    "    print(col[\"name\"], \"-\", col[\"type\"])"
   ]
  },
  {
   "cell_type": "code",
   "execution_count": 132,
   "id": "aaee51fd-2d26-41fe-92d1-b59e3cbd94a8",
   "metadata": {},
   "outputs": [
    {
     "name": "stdout",
     "output_type": "stream",
     "text": [
      "                         ts             platform  ms_played conn_country  \\\n",
      "0       2012-08-03 15:43:50  OS X 10.7.4 [x86 4]     137760           US   \n",
      "1       2012-08-03 15:48:28  OS X 10.7.4 [x86 4]     277040           US   \n",
      "2       2012-08-03 15:50:16  OS X 10.7.4 [x86 4]     108244           US   \n",
      "3       2012-08-03 15:50:31  OS X 10.7.4 [x86 4]      16015           US   \n",
      "4       2012-08-03 15:53:53  OS X 10.7.4 [x86 4]      73786           US   \n",
      "...                     ...                  ...        ...          ...   \n",
      "202673  2024-07-26 11:29:30                  ios       2559           US   \n",
      "202674  2024-07-26 11:29:31                  ios       1062           US   \n",
      "202675  2024-07-26 11:29:39                  ios        755           US   \n",
      "202676  2024-07-26 11:29:41                  ios          0           US   \n",
      "202677  2024-07-26 11:29:50                  ios       2195           US   \n",
      "\n",
      "                ip_addr                 master_metadata_track_name  \\\n",
      "0        134.210.225.27                        Some Nights - Intro   \n",
      "1        134.210.225.27                                Some Nights   \n",
      "2        134.210.225.27         We Are Young (feat. Janelle Monáe)   \n",
      "3        134.210.225.27                         Trip to Your Heart   \n",
      "4        134.210.225.27                                       Stan   \n",
      "...                 ...                                        ...   \n",
      "202673  134.210.222.137  Red - From \"Descendants: The Rise of Red\"   \n",
      "202674  134.210.222.137                            Life Is Sweeter   \n",
      "202675  134.210.222.137                              Space Between   \n",
      "202676  134.210.222.137                            Perfect Revenge   \n",
      "202677  134.210.222.137                             Back to Autumn   \n",
      "\n",
      "       master_metadata_album_artist_name master_metadata_album_album_name  \\\n",
      "0                                   fun.                      Some Nights   \n",
      "1                                   fun.                      Some Nights   \n",
      "2                                   fun.                      Some Nights   \n",
      "3                         Britney Spears    Femme Fatale (Deluxe Version)   \n",
      "4                                 Eminem          The Marshall Mathers LP   \n",
      "...                                  ...                              ...   \n",
      "202673                    Kylie Cantrall                              Red   \n",
      "202674                Descendants – Cast     Descendants: The Rise of Red   \n",
      "202675                      Dove Cameron                    Descendants 2   \n",
      "202676                        Dara Reneé     Descendants: The Rise of Red   \n",
      "202677                      Tall Heights          Holding On, Holding Out   \n",
      "\n",
      "                           spotify_track_uri  episode_name  ...  \\\n",
      "0       spotify:track:1JAI5Ia020mdGH2wMQEacy           NaN  ...   \n",
      "1       spotify:track:6t6oULCRS6hnI7rm0h5gwl           NaN  ...   \n",
      "2       spotify:track:7a86XRg84qjasly9f6bPSD           NaN  ...   \n",
      "3       spotify:track:2qbhijQG7phGVHkPt22fTP           NaN  ...   \n",
      "4       spotify:track:3UmaczJpikHgJFyBTAJVoz           NaN  ...   \n",
      "...                                      ...           ...  ...   \n",
      "202673  spotify:track:1AP7xueWwO5AakWFYzttpV           NaN  ...   \n",
      "202674  spotify:track:46CznmGbHRvRhTkvaN5rDB           NaN  ...   \n",
      "202675  spotify:track:3N1V03yrqyNPo5A4Fu2Wd7           NaN  ...   \n",
      "202676  spotify:track:60UNcOiHERCGTo9qsssH2K           NaN  ...   \n",
      "202677  spotify:track:3TdZbELsPLWYZAArGSfwyQ           NaN  ...   \n",
      "\n",
      "        audiobook_chapter_uri  audiobook_chapter_title  reason_start  \\\n",
      "0                         NaN                      NaN       uriopen   \n",
      "1                         NaN                      NaN     trackdone   \n",
      "2                         NaN                      NaN     trackdone   \n",
      "3                         NaN                      NaN       uriopen   \n",
      "4                         NaN                      NaN       uriopen   \n",
      "...                       ...                      ...           ...   \n",
      "202673                    NaN                      NaN       unknown   \n",
      "202674                    NaN                      NaN       unknown   \n",
      "202675                    NaN                      NaN       unknown   \n",
      "202676                    NaN                      NaN       unknown   \n",
      "202677                    NaN                      NaN       unknown   \n",
      "\n",
      "        reason_end  shuffle  skipped offline offline_timestamp  \\\n",
      "0        trackdone    False    False   False               NaN   \n",
      "1        trackdone    False    False   False               NaN   \n",
      "2          uriopen    False     True   False               NaN   \n",
      "3          uriopen    False     True   False               NaN   \n",
      "4            popup    False     True   False               NaN   \n",
      "...            ...      ...      ...     ...               ...   \n",
      "202673     endplay    False     True    None               NaN   \n",
      "202674     endplay    False     True    None               NaN   \n",
      "202675     endplay    False     True    None               NaN   \n",
      "202676     endplay    False     True    None               NaN   \n",
      "202677     endplay    False     True    None               NaN   \n",
      "\n",
      "        incognito_mode  year  \n",
      "0                False  2012  \n",
      "1                False  2012  \n",
      "2                False  2012  \n",
      "3                False  2012  \n",
      "4                False  2012  \n",
      "...                ...   ...  \n",
      "202673           False  2024  \n",
      "202674           False  2024  \n",
      "202675           False  2024  \n",
      "202676           False  2024  \n",
      "202677           False  2024  \n",
      "\n",
      "[202678 rows x 24 columns]\n"
     ]
    }
   ],
   "source": [
    "#create a variable called df to get a glimpse of the columns and data \n",
    "df = pd.read_sql(\"spotify_history\", engine)\n",
    "print(df)"
   ]
  },
  {
   "cell_type": "markdown",
   "id": "1946d38f-3421-4284-9e97-767f24ae729b",
   "metadata": {},
   "source": [
    "For practice, there are not multiple tables in this database. There is only one table named spotify_history."
   ]
  },
  {
   "cell_type": "markdown",
   "id": "f4ef2d42-d445-4d96-983a-444c09e97e97",
   "metadata": {},
   "source": [
    "Metadata for this database can be found here: https://github.com/MelissaLaurino/SpotifyStreamingHistory"
   ]
  },
  {
   "cell_type": "markdown",
   "id": "29ea3225-6c20-46aa-881b-556a754089f6",
   "metadata": {},
   "source": [
    "We can use COUNT( * ) to summarize and count occurrences in SQL. Use COUNT( * ) below:"
   ]
  },
  {
   "cell_type": "markdown",
   "id": "fbb4cf6b-4b9c-4345-ac1c-d7836078ab50",
   "metadata": {},
   "source": [
    "*Query 1:* <br>\n",
    "Find the top 30 artists listened to in the year 2024."
   ]
  },
  {
   "cell_type": "code",
   "execution_count": 133,
   "id": "8363df2a-72b0-4371-ab65-ca108448d835",
   "metadata": {},
   "outputs": [
    {
     "name": "stdout",
     "output_type": "stream",
     "text": [
      "                                artist  play_count\n",
      "0                          Miley Cyrus         680\n",
      "1                        Ariana Grande         583\n",
      "2                               Hozier         512\n",
      "3                               Eminem         454\n",
      "4                    Sabrina Carpenter         444\n",
      "5                            Lady Gaga         326\n",
      "6                        Billie Eilish         284\n",
      "7                           Noah Cyrus         282\n",
      "8                        Amy Winehouse         266\n",
      "9                          Teddy Swims         257\n",
      "10                        Taylor Swift         257\n",
      "11                      Olivia Rodrigo         249\n",
      "12                          Noah Kahan         242\n",
      "13                      Britney Spears         230\n",
      "14                    Steven Rodriguez         224\n",
      "15                               Dasha         216\n",
      "16                                 CIL         216\n",
      "17                        Benson Boone         215\n",
      "18                             Beyoncé         211\n",
      "19                      Mumford & Sons         189\n",
      "20                        Lana Del Rey         188\n",
      "21                 Panic! At The Disco         177\n",
      "22                           Meg & Dia         165\n",
      "23                        Natalie Jane         158\n",
      "24                               Kesha         149\n",
      "25                       Chappell Roan         148\n",
      "26                       Avril Lavigne         128\n",
      "27  Scott Bradlee's Postmodern Jukebox         115\n",
      "28                                 Sia         113\n",
      "29                          Tate McRae         102\n"
     ]
    }
   ],
   "source": [
    "# Establish a connection with the database \n",
    "with engine.connect() as connection:  \n",
    "    #define the query to use the artist name column (call it artist in the results) count the number of times and call is play count, limit the query for only 2024 and top 30 artists in descending order \n",
    "    query = text(\"\"\"\n",
    "        SELECT master_metadata_album_artist_name AS artist, \n",
    "               COUNT (*) AS play_count                      \n",
    "         FROM spotify_history                                \n",
    "        WHERE year = 2024                                    \n",
    "        GROUP BY master_metadata_album_artist_name          \n",
    "        ORDER BY play_count DESC                           \n",
    "        LIMIT 30;                                           \n",
    "    \"\"\")\n",
    "    top_artist2024 = pd.read_sql(query, connection) #Use pandas to read the sql query with the connection to the database\n",
    "\n",
    "#print results \n",
    "print(top_artist2024)"
   ]
  },
  {
   "cell_type": "markdown",
   "id": "261f4de7-7b05-4726-9df1-66fb3aac272a",
   "metadata": {},
   "source": [
    "The top 5 artists are **Miley Cyrus, Ariana Grande, Hozier, Eminem, and Sabrina Carpenter**. "
   ]
  },
  {
   "cell_type": "markdown",
   "id": "91126135-9a29-4b71-8fc5-3244714b2df5",
   "metadata": {},
   "source": [
    "*Query 2:* <br>\n",
    "Find the top 30 songs listened to in the year 2017."
   ]
  },
  {
   "cell_type": "code",
   "execution_count": 41,
   "id": "113f1b54-f671-42db-89ab-f06994a841b4",
   "metadata": {},
   "outputs": [
    {
     "name": "stdout",
     "output_type": "stream",
     "text": [
      "                                artist  play_count\n",
      "0                          Miley Cyrus        1162\n",
      "1                                Kesha         701\n",
      "2                           Ed Sheeran         610\n",
      "3                            Lady Gaga         276\n",
      "4                           Noah Cyrus         229\n",
      "5                         Zara Larsson         224\n",
      "6                         Lana Del Rey         199\n",
      "7                  Panic! At The Disco         198\n",
      "8                       The Civil Wars         196\n",
      "9                       Meghan Trainor         195\n",
      "10                       Amy Winehouse         175\n",
      "11                      Puddle Of Mudd         153\n",
      "12                             Beyoncé         153\n",
      "13                         Ryan Kinder         149\n",
      "14                   Emily Ann Roberts         147\n",
      "15                      Britney Spears         136\n",
      "16                              Eminem         133\n",
      "17                      Mumford & Sons         132\n",
      "18                                Kygo         131\n",
      "19                              Hozier         130\n",
      "20                       The Lumineers         120\n",
      "21                    The Chainsmokers         117\n",
      "22                          Luis Fonsi         114\n",
      "23                      Brett Eldredge         110\n",
      "24                             Tove Lo         109\n",
      "25  Scott Bradlee's Postmodern Jukebox         107\n",
      "26                    Hailee Steinfeld         107\n",
      "27                               Adele         106\n",
      "28                      Camila Cabello         103\n",
      "29                         Demi Lovato         102\n"
     ]
    }
   ],
   "source": [
    "# Establish a connection\n",
    "with engine.connect() as connection:  \n",
    "    #Define the query to display the top 30 artists from 2017 in descending order \n",
    "    #similar code to last one\n",
    "    query = text(\"\"\"\n",
    "        SELECT master_metadata_album_artist_name AS artist, \n",
    "               COUNT (*) AS play_count\n",
    "         FROM spotify_history\n",
    "        WHERE year = 2017 \n",
    "        GROUP BY master_metadata_album_artist_name\n",
    "        ORDER BY play_count DESC \n",
    "        LIMIT 30;\n",
    "    \"\"\")\n",
    "    top_artist2017 = pd.read_sql(query, connection) #Use pandas to read the sql query with the connection to the database\n",
    "\n",
    "print(top_artist2017)"
   ]
  },
  {
   "cell_type": "markdown",
   "id": "015f1232-9a70-4afe-a474-90a5fe89179e",
   "metadata": {},
   "source": [
    "The top 5 artists for 2017 were **Miley Cyrus, Kesha, Ed Sheeran, Lady Gaga, and Noah Cyrus**. "
   ]
  },
  {
   "cell_type": "markdown",
   "id": "5f792c1f-239e-4836-b101-60fc51ec2883",
   "metadata": {},
   "source": [
    "*Query 3:* <br>\n",
    "\n",
    "Question- What were the top 5 songs that were skipped in 2024? "
   ]
  },
  {
   "cell_type": "code",
   "execution_count": 63,
   "id": "d8a688de-d2c2-45aa-b7b3-c1e9399f754a",
   "metadata": {},
   "outputs": [
    {
     "name": "stdout",
     "output_type": "stream",
     "text": [
      "                                       song  skip_count\n",
      "0                                 Too Sweet          84\n",
      "1                              Lose Control          61\n",
      "2               Austin (Boots Stop Workin')          52\n",
      "3                          Beautiful Things          48\n",
      "4                                  Nonsense          45\n",
      "5                              Stick Season          44\n",
      "6                                   Feather          42\n",
      "7                                 Work Song          42\n",
      "8                                    greedy          42\n",
      "9  we can't be friends (wait for your love)          41\n"
     ]
    }
   ],
   "source": [
    "# Establish a connection\n",
    "with engine.connect() as connection:  \n",
    "    #define the query to list the top 10 songss from 2024 that were skipped and return the count of number of times skipped \n",
    "    query = text(\"\"\"\n",
    "        SELECT master_metadata_track_name AS song, \n",
    "               COUNT (*) AS skip_count\n",
    "         FROM spotify_history\n",
    "        WHERE year = 2024 \n",
    "        AND skipped = 1\n",
    "        GROUP BY master_metadata_track_name\n",
    "        ORDER BY skip_count DESC \n",
    "        LIMIT 10;\n",
    "    \"\"\")\n",
    "    top_skipped_songs = pd.read_sql(query, connection) #Use pandas to read the sql query with the connection to the database\n",
    "\n",
    "print(top_skipped_songs)"
   ]
  },
  {
   "cell_type": "markdown",
   "id": "f7e13f03-4cd3-448f-be2b-d60c80823c44",
   "metadata": {},
   "source": [
    "The top 10 skipped songs in 2024 were ** Too Sweet, Lose Control, Austin, Beautiful Things, Nonsense, Stick Season, Feather, Work Song, Greedy, and We can't be friends. "
   ]
  },
  {
   "cell_type": "code",
   "execution_count": 136,
   "id": "d4de87d1-d51e-4830-a09c-55775b3cc644",
   "metadata": {},
   "outputs": [],
   "source": [
    "#Disconnect from the database. Always remember to disconnect :) \n",
    "connection.close()"
   ]
  },
  {
   "cell_type": "markdown",
   "id": "76827fdb",
   "metadata": {},
   "source": [
    "# Assignment #5 - Data Gathering and Warehousing - DSSA-5102\n",
    "\n",
    "<b>Only Murders in the...Database?</b><br>\n",
    "An introduction to navigating SQL databases using R and Jupyter Notebook. <br>\n",
    "<br>\n",
    "Congrats! You have solved the murder from Assignment #4, let's practice more queries in SQL City! <br>\n",
    "<br>\n",
    "Your task for <b>Assignment #5</b> is to complete the following objectives:<br>\n",
    "You are a data scientist that was hired by SQL City. Your objectives are as follows:<br>\n",
    "- Objective 1: The town is willing to fund more training for officers in SQL City based on the type of crime that is most committed. The training would help them identify the clues that indicate these two types upon arrival on a crime scene. As a data scientist, what crime type would you advise needs more training for officers in SQL city? What crime was committed the most in SQL City within the database date range? Save your query as a dataframe and quickly add a ggplot2 bar graph visual to support your recommendation.<br>\n",
    "- Objective 2: The town has also received more funding to encourage DOUBLE overtime for officers in SQL City during the month with the highest crime rate through out the date range of the database. What month would you advise the town to encourage officer overtime? <br>\n",
    "- Objective 3: To thank the officers for their extra training and overtime, the town will pay for their monthly gym membership. They want to give the officers the membership that the least amount of civilians have to avoid being recognized daily as the town heros. The membership can be used in any town. What membership does the town give them?<br><br>\n",
    "<b>--</b>Add detailed comments to explain EVERY query or SQL command you use while we are still learning and practicing. I have my steps outlined, but please add more cells inbetween for additional queries! There is no limit on the number of queries you can use. <br>\n",
    "<b>--</b>For each query include comments such as \"SELECT all records FROM table WHERE column name = X\"<br>\n",
    "<b>--</b>Answer the prompts in markdown cells. Justify your response. A simple yes/no answer will receive no credit.<br>\n",
    "\n",
    "Recommended Readings: Chapters 4-7 in Getting Started with SQL by Thomas Nield<br><br>\n",
    "\n",
    "SQL Dictionary: https://www.w3schools.com/sql/sql_ref_join.asp\n",
    "\n",
    "This fabulous database was created by @NUKnightLab on Github and can be found here: https://github.com/NUKnightLab/sql-mysteries\n"
   ]
  },
  {
   "cell_type": "code",
   "execution_count": 150,
   "id": "5e4ae281",
   "metadata": {},
   "outputs": [],
   "source": [
    "# Load necessary libraries\n",
    "from sqlalchemy import create_engine, inspect, text # Database navigation\n",
    "import sqlite3 # A second option for working with databases\n",
    "import pandas as pd # Python data manilpulation\n",
    "import matplotlib.pyplot as plt #for visualizations \n",
    "import seaborn as sns #to allow for more options for visualizations "
   ]
  },
  {
   "cell_type": "code",
   "execution_count": 152,
   "id": "89bc8e32",
   "metadata": {},
   "outputs": [
    {
     "data": {
      "text/plain": [
       "Engine(sqlite:///C:\\Users\\parni\\OneDrive\\Desktop\\DSSA\\DGW\\sql-murder-mystery (3).db)"
      ]
     },
     "execution_count": 152,
     "metadata": {},
     "output_type": "execute_result"
    }
   ],
   "source": [
    "# Connect to our .db file\n",
    "# Create a SQLite database and engine\n",
    "db_path = r\"C:\\Users\\parni\\OneDrive\\Desktop\\DSSA\\DGW\\sql-murder-mystery (3).db\" \n",
    "engine = create_engine(f\"sqlite:///{db_path}\") # Use the create_engine function to connect to the database\n",
    "engine # The f is the connection string, so if we print it we can see below"
   ]
  },
  {
   "cell_type": "code",
   "execution_count": 154,
   "id": "54fa711e-48a8-4c64-a95d-aad250d38cfb",
   "metadata": {},
   "outputs": [
    {
     "name": "stdout",
     "output_type": "stream",
     "text": [
      "Connection successful!\n"
     ]
    }
   ],
   "source": [
    "#make a connection to the database using the engine\n",
    "#make sure the connection is is successful with the databese before moving further \n",
    "with engine.connect() as connection:\n",
    "    #if the connection is successful print the statement  \n",
    "    print(\"Connection successful!\")"
   ]
  },
  {
   "cell_type": "code",
   "execution_count": 156,
   "id": "3850f72a",
   "metadata": {},
   "outputs": [
    {
     "name": "stdout",
     "output_type": "stream",
     "text": [
      "['crime_scene_report', 'drivers_license', 'facebook_event_checkin', 'get_fit_now_check_in', 'get_fit_now_member', 'income', 'interview', 'person', 'solution']\n"
     ]
    }
   ],
   "source": [
    "# For a quick reference for tables and columns, refer to schema on Blackboard, or list the tables and fields below:\n",
    "#create an inspector object to analyze the databse \n",
    "inspector = inspect(engine)\n",
    "\n",
    "#get a list of all the table names using the built in function \n",
    "table_names = inspector.get_table_names()\n",
    "print(table_names)"
   ]
  },
  {
   "cell_type": "markdown",
   "id": "c3a910f4-6c47-4081-806e-7e0651673bee",
   "metadata": {},
   "source": [
    "The table names are: crime scene report, drivers license, facebook event checkin, get fit nwo check in, get fit now member, income, interview, person, solution. "
   ]
  },
  {
   "cell_type": "markdown",
   "id": "25e53d9b",
   "metadata": {},
   "source": [
    "We can use the COUNT command to explore our queries further. COUNT will count the number of records that meet the specified criteria.\n",
    "Additional examples using COUNT: https://www.w3schools.com/sql/sql_count.asp"
   ]
  },
  {
   "cell_type": "code",
   "execution_count": 170,
   "id": "20476b98",
   "metadata": {},
   "outputs": [
    {
     "ename": "ResourceClosedError",
     "evalue": "This Connection is closed",
     "output_type": "error",
     "traceback": [
      "\u001b[1;31m---------------------------------------------------------------------------\u001b[0m",
      "\u001b[1;31mResourceClosedError\u001b[0m                       Traceback (most recent call last)",
      "Cell \u001b[1;32mIn[170], line 15\u001b[0m\n\u001b[0;32m      7\u001b[0m \u001b[38;5;28;01mwith\u001b[39;00m engine\u001b[38;5;241m.\u001b[39mconnect() \u001b[38;5;28;01mas\u001b[39;00m connection:\n\u001b[0;32m      8\u001b[0m     query \u001b[38;5;241m=\u001b[39m text(\u001b[38;5;124m\"\"\"\u001b[39m\n\u001b[0;32m      9\u001b[0m \u001b[38;5;124m        SELECT city, COUNT(*) as count\u001b[39m\n\u001b[0;32m     10\u001b[0m \u001b[38;5;124m        FROM crime_scene_report\u001b[39m\n\u001b[1;32m   (...)\u001b[0m\n\u001b[0;32m     13\u001b[0m \u001b[38;5;124m        LIMIT 10;\u001b[39m\n\u001b[0;32m     14\u001b[0m \u001b[38;5;124m    \u001b[39m\u001b[38;5;124m\"\"\"\u001b[39m)\n\u001b[1;32m---> 15\u001b[0m practice_cities \u001b[38;5;241m=\u001b[39m pd\u001b[38;5;241m.\u001b[39mread_sql(query, connection)\n\u001b[0;32m     17\u001b[0m \u001b[38;5;28mprint\u001b[39m(practice_cities)\n",
      "File \u001b[1;32m~\\anaconda3\\Lib\\site-packages\\pandas\\io\\sql.py:734\u001b[0m, in \u001b[0;36mread_sql\u001b[1;34m(sql, con, index_col, coerce_float, params, parse_dates, columns, chunksize, dtype_backend, dtype)\u001b[0m\n\u001b[0;32m    724\u001b[0m     \u001b[38;5;28;01mreturn\u001b[39;00m pandas_sql\u001b[38;5;241m.\u001b[39mread_table(\n\u001b[0;32m    725\u001b[0m         sql,\n\u001b[0;32m    726\u001b[0m         index_col\u001b[38;5;241m=\u001b[39mindex_col,\n\u001b[1;32m   (...)\u001b[0m\n\u001b[0;32m    731\u001b[0m         dtype_backend\u001b[38;5;241m=\u001b[39mdtype_backend,\n\u001b[0;32m    732\u001b[0m     )\n\u001b[0;32m    733\u001b[0m \u001b[38;5;28;01melse\u001b[39;00m:\n\u001b[1;32m--> 734\u001b[0m     \u001b[38;5;28;01mreturn\u001b[39;00m pandas_sql\u001b[38;5;241m.\u001b[39mread_query(\n\u001b[0;32m    735\u001b[0m         sql,\n\u001b[0;32m    736\u001b[0m         index_col\u001b[38;5;241m=\u001b[39mindex_col,\n\u001b[0;32m    737\u001b[0m         params\u001b[38;5;241m=\u001b[39mparams,\n\u001b[0;32m    738\u001b[0m         coerce_float\u001b[38;5;241m=\u001b[39mcoerce_float,\n\u001b[0;32m    739\u001b[0m         parse_dates\u001b[38;5;241m=\u001b[39mparse_dates,\n\u001b[0;32m    740\u001b[0m         chunksize\u001b[38;5;241m=\u001b[39mchunksize,\n\u001b[0;32m    741\u001b[0m         dtype_backend\u001b[38;5;241m=\u001b[39mdtype_backend,\n\u001b[0;32m    742\u001b[0m         dtype\u001b[38;5;241m=\u001b[39mdtype,\n\u001b[0;32m    743\u001b[0m     )\n",
      "File \u001b[1;32m~\\anaconda3\\Lib\\site-packages\\pandas\\io\\sql.py:1836\u001b[0m, in \u001b[0;36mSQLDatabase.read_query\u001b[1;34m(self, sql, index_col, coerce_float, parse_dates, params, chunksize, dtype, dtype_backend)\u001b[0m\n\u001b[0;32m   1779\u001b[0m \u001b[38;5;28;01mdef\u001b[39;00m \u001b[38;5;21mread_query\u001b[39m(\n\u001b[0;32m   1780\u001b[0m     \u001b[38;5;28mself\u001b[39m,\n\u001b[0;32m   1781\u001b[0m     sql: \u001b[38;5;28mstr\u001b[39m,\n\u001b[1;32m   (...)\u001b[0m\n\u001b[0;32m   1788\u001b[0m     dtype_backend: DtypeBackend \u001b[38;5;241m|\u001b[39m Literal[\u001b[38;5;124m\"\u001b[39m\u001b[38;5;124mnumpy\u001b[39m\u001b[38;5;124m\"\u001b[39m] \u001b[38;5;241m=\u001b[39m \u001b[38;5;124m\"\u001b[39m\u001b[38;5;124mnumpy\u001b[39m\u001b[38;5;124m\"\u001b[39m,\n\u001b[0;32m   1789\u001b[0m ) \u001b[38;5;241m-\u001b[39m\u001b[38;5;241m>\u001b[39m DataFrame \u001b[38;5;241m|\u001b[39m Iterator[DataFrame]:\n\u001b[0;32m   1790\u001b[0m \u001b[38;5;250m    \u001b[39m\u001b[38;5;124;03m\"\"\"\u001b[39;00m\n\u001b[0;32m   1791\u001b[0m \u001b[38;5;124;03m    Read SQL query into a DataFrame.\u001b[39;00m\n\u001b[0;32m   1792\u001b[0m \n\u001b[1;32m   (...)\u001b[0m\n\u001b[0;32m   1834\u001b[0m \n\u001b[0;32m   1835\u001b[0m \u001b[38;5;124;03m    \"\"\"\u001b[39;00m\n\u001b[1;32m-> 1836\u001b[0m     result \u001b[38;5;241m=\u001b[39m \u001b[38;5;28mself\u001b[39m\u001b[38;5;241m.\u001b[39mexecute(sql, params)\n\u001b[0;32m   1837\u001b[0m     columns \u001b[38;5;241m=\u001b[39m result\u001b[38;5;241m.\u001b[39mkeys()\n\u001b[0;32m   1839\u001b[0m     \u001b[38;5;28;01mif\u001b[39;00m chunksize \u001b[38;5;129;01mis\u001b[39;00m \u001b[38;5;129;01mnot\u001b[39;00m \u001b[38;5;28;01mNone\u001b[39;00m:\n",
      "File \u001b[1;32m~\\anaconda3\\Lib\\site-packages\\pandas\\io\\sql.py:1660\u001b[0m, in \u001b[0;36mSQLDatabase.execute\u001b[1;34m(self, sql, params)\u001b[0m\n\u001b[0;32m   1658\u001b[0m \u001b[38;5;28;01mif\u001b[39;00m \u001b[38;5;28misinstance\u001b[39m(sql, \u001b[38;5;28mstr\u001b[39m):\n\u001b[0;32m   1659\u001b[0m     \u001b[38;5;28;01mreturn\u001b[39;00m \u001b[38;5;28mself\u001b[39m\u001b[38;5;241m.\u001b[39mcon\u001b[38;5;241m.\u001b[39mexec_driver_sql(sql, \u001b[38;5;241m*\u001b[39margs)\n\u001b[1;32m-> 1660\u001b[0m \u001b[38;5;28;01mreturn\u001b[39;00m \u001b[38;5;28mself\u001b[39m\u001b[38;5;241m.\u001b[39mcon\u001b[38;5;241m.\u001b[39mexecute(sql, \u001b[38;5;241m*\u001b[39margs)\n",
      "File \u001b[1;32m~\\anaconda3\\Lib\\site-packages\\sqlalchemy\\engine\\base.py:1418\u001b[0m, in \u001b[0;36mConnection.execute\u001b[1;34m(self, statement, parameters, execution_options)\u001b[0m\n\u001b[0;32m   1416\u001b[0m     \u001b[38;5;28;01mraise\u001b[39;00m exc\u001b[38;5;241m.\u001b[39mObjectNotExecutableError(statement) \u001b[38;5;28;01mfrom\u001b[39;00m \u001b[38;5;21;01merr\u001b[39;00m\n\u001b[0;32m   1417\u001b[0m \u001b[38;5;28;01melse\u001b[39;00m:\n\u001b[1;32m-> 1418\u001b[0m     \u001b[38;5;28;01mreturn\u001b[39;00m meth(\n\u001b[0;32m   1419\u001b[0m         \u001b[38;5;28mself\u001b[39m,\n\u001b[0;32m   1420\u001b[0m         distilled_parameters,\n\u001b[0;32m   1421\u001b[0m         execution_options \u001b[38;5;129;01mor\u001b[39;00m NO_OPTIONS,\n\u001b[0;32m   1422\u001b[0m     )\n",
      "File \u001b[1;32m~\\anaconda3\\Lib\\site-packages\\sqlalchemy\\sql\\elements.py:515\u001b[0m, in \u001b[0;36mClauseElement._execute_on_connection\u001b[1;34m(self, connection, distilled_params, execution_options)\u001b[0m\n\u001b[0;32m    513\u001b[0m     \u001b[38;5;28;01mif\u001b[39;00m TYPE_CHECKING:\n\u001b[0;32m    514\u001b[0m         \u001b[38;5;28;01massert\u001b[39;00m \u001b[38;5;28misinstance\u001b[39m(\u001b[38;5;28mself\u001b[39m, Executable)\n\u001b[1;32m--> 515\u001b[0m     \u001b[38;5;28;01mreturn\u001b[39;00m connection\u001b[38;5;241m.\u001b[39m_execute_clauseelement(\n\u001b[0;32m    516\u001b[0m         \u001b[38;5;28mself\u001b[39m, distilled_params, execution_options\n\u001b[0;32m    517\u001b[0m     )\n\u001b[0;32m    518\u001b[0m \u001b[38;5;28;01melse\u001b[39;00m:\n\u001b[0;32m    519\u001b[0m     \u001b[38;5;28;01mraise\u001b[39;00m exc\u001b[38;5;241m.\u001b[39mObjectNotExecutableError(\u001b[38;5;28mself\u001b[39m)\n",
      "File \u001b[1;32m~\\anaconda3\\Lib\\site-packages\\sqlalchemy\\engine\\base.py:1640\u001b[0m, in \u001b[0;36mConnection._execute_clauseelement\u001b[1;34m(self, elem, distilled_parameters, execution_options)\u001b[0m\n\u001b[0;32m   1628\u001b[0m compiled_cache: Optional[CompiledCacheType] \u001b[38;5;241m=\u001b[39m execution_options\u001b[38;5;241m.\u001b[39mget(\n\u001b[0;32m   1629\u001b[0m     \u001b[38;5;124m\"\u001b[39m\u001b[38;5;124mcompiled_cache\u001b[39m\u001b[38;5;124m\"\u001b[39m, \u001b[38;5;28mself\u001b[39m\u001b[38;5;241m.\u001b[39mengine\u001b[38;5;241m.\u001b[39m_compiled_cache\n\u001b[0;32m   1630\u001b[0m )\n\u001b[0;32m   1632\u001b[0m compiled_sql, extracted_params, cache_hit \u001b[38;5;241m=\u001b[39m elem\u001b[38;5;241m.\u001b[39m_compile_w_cache(\n\u001b[0;32m   1633\u001b[0m     dialect\u001b[38;5;241m=\u001b[39mdialect,\n\u001b[0;32m   1634\u001b[0m     compiled_cache\u001b[38;5;241m=\u001b[39mcompiled_cache,\n\u001b[1;32m   (...)\u001b[0m\n\u001b[0;32m   1638\u001b[0m     linting\u001b[38;5;241m=\u001b[39m\u001b[38;5;28mself\u001b[39m\u001b[38;5;241m.\u001b[39mdialect\u001b[38;5;241m.\u001b[39mcompiler_linting \u001b[38;5;241m|\u001b[39m compiler\u001b[38;5;241m.\u001b[39mWARN_LINTING,\n\u001b[0;32m   1639\u001b[0m )\n\u001b[1;32m-> 1640\u001b[0m ret \u001b[38;5;241m=\u001b[39m \u001b[38;5;28mself\u001b[39m\u001b[38;5;241m.\u001b[39m_execute_context(\n\u001b[0;32m   1641\u001b[0m     dialect,\n\u001b[0;32m   1642\u001b[0m     dialect\u001b[38;5;241m.\u001b[39mexecution_ctx_cls\u001b[38;5;241m.\u001b[39m_init_compiled,\n\u001b[0;32m   1643\u001b[0m     compiled_sql,\n\u001b[0;32m   1644\u001b[0m     distilled_parameters,\n\u001b[0;32m   1645\u001b[0m     execution_options,\n\u001b[0;32m   1646\u001b[0m     compiled_sql,\n\u001b[0;32m   1647\u001b[0m     distilled_parameters,\n\u001b[0;32m   1648\u001b[0m     elem,\n\u001b[0;32m   1649\u001b[0m     extracted_params,\n\u001b[0;32m   1650\u001b[0m     cache_hit\u001b[38;5;241m=\u001b[39mcache_hit,\n\u001b[0;32m   1651\u001b[0m )\n\u001b[0;32m   1652\u001b[0m \u001b[38;5;28;01mif\u001b[39;00m has_events:\n\u001b[0;32m   1653\u001b[0m     \u001b[38;5;28mself\u001b[39m\u001b[38;5;241m.\u001b[39mdispatch\u001b[38;5;241m.\u001b[39mafter_execute(\n\u001b[0;32m   1654\u001b[0m         \u001b[38;5;28mself\u001b[39m,\n\u001b[0;32m   1655\u001b[0m         elem,\n\u001b[1;32m   (...)\u001b[0m\n\u001b[0;32m   1659\u001b[0m         ret,\n\u001b[0;32m   1660\u001b[0m     )\n",
      "File \u001b[1;32m~\\anaconda3\\Lib\\site-packages\\sqlalchemy\\engine\\base.py:1813\u001b[0m, in \u001b[0;36mConnection._execute_context\u001b[1;34m(self, dialect, constructor, statement, parameters, execution_options, *args, **kw)\u001b[0m\n\u001b[0;32m   1811\u001b[0m     conn \u001b[38;5;241m=\u001b[39m \u001b[38;5;28mself\u001b[39m\u001b[38;5;241m.\u001b[39m_dbapi_connection\n\u001b[0;32m   1812\u001b[0m     \u001b[38;5;28;01mif\u001b[39;00m conn \u001b[38;5;129;01mis\u001b[39;00m \u001b[38;5;28;01mNone\u001b[39;00m:\n\u001b[1;32m-> 1813\u001b[0m         conn \u001b[38;5;241m=\u001b[39m \u001b[38;5;28mself\u001b[39m\u001b[38;5;241m.\u001b[39m_revalidate_connection()\n\u001b[0;32m   1815\u001b[0m     context \u001b[38;5;241m=\u001b[39m constructor(\n\u001b[0;32m   1816\u001b[0m         dialect, \u001b[38;5;28mself\u001b[39m, conn, execution_options, \u001b[38;5;241m*\u001b[39margs, \u001b[38;5;241m*\u001b[39m\u001b[38;5;241m*\u001b[39mkw\n\u001b[0;32m   1817\u001b[0m     )\n\u001b[0;32m   1818\u001b[0m \u001b[38;5;28;01mexcept\u001b[39;00m (exc\u001b[38;5;241m.\u001b[39mPendingRollbackError, exc\u001b[38;5;241m.\u001b[39mResourceClosedError):\n",
      "File \u001b[1;32m~\\anaconda3\\Lib\\site-packages\\sqlalchemy\\engine\\base.py:680\u001b[0m, in \u001b[0;36mConnection._revalidate_connection\u001b[1;34m(self)\u001b[0m\n\u001b[0;32m    678\u001b[0m     \u001b[38;5;28mself\u001b[39m\u001b[38;5;241m.\u001b[39m_dbapi_connection \u001b[38;5;241m=\u001b[39m \u001b[38;5;28mself\u001b[39m\u001b[38;5;241m.\u001b[39mengine\u001b[38;5;241m.\u001b[39mraw_connection()\n\u001b[0;32m    679\u001b[0m     \u001b[38;5;28;01mreturn\u001b[39;00m \u001b[38;5;28mself\u001b[39m\u001b[38;5;241m.\u001b[39m_dbapi_connection\n\u001b[1;32m--> 680\u001b[0m \u001b[38;5;28;01mraise\u001b[39;00m exc\u001b[38;5;241m.\u001b[39mResourceClosedError(\u001b[38;5;124m\"\u001b[39m\u001b[38;5;124mThis Connection is closed\u001b[39m\u001b[38;5;124m\"\u001b[39m)\n",
      "\u001b[1;31mResourceClosedError\u001b[0m: This Connection is closed"
     ]
    }
   ],
   "source": [
    "#Practice analyzing COUNTS in data tables with SQL queries:\n",
    "#Brainstorming for Objective 1\n",
    "#We can find the top ten cities within our Murder Mystery database that had the most crimes by using the COUNT SQL command.\n",
    "#SELECT the cities that have the most counts within the table crime_scene_report and\n",
    "#GROUP the results BY city and ORDER BY a DESC count, only show a limit of 10 records:\n",
    "\n",
    "with engine.connect() as connection:\n",
    "    query = text(\"\"\"\n",
    "        SELECT city, COUNT(*) as count\n",
    "        FROM crime_scene_report\n",
    "        GROUP BY city\n",
    "        ORDER BY count DESC\n",
    "        LIMIT 10;\n",
    "    \"\"\")\n",
    "practice_cities = pd.read_sql(query, connection)\n",
    "\n",
    "print(practice_cities)\n",
    "\n",
    "#Looks like SQL City and Murfeesboro have the highest number of crimes! \n",
    "\n",
    "#Use COUNT(*) as count to determine the answers to the objectives below. "
   ]
  },
  {
   "cell_type": "markdown",
   "id": "fa4630e6-b9cd-4978-a129-765771f33265",
   "metadata": {},
   "source": [
    "<b>Objective 1:</b> The town is willing to fund more training for officers in SQL City based on the type of crime that is most committed. The training would help them identify the clues that indicate these **two** (hint?)types upon arrival on a crime scene. As a data scientist, what crime type would you advise needs more training for officers in SQL city? What crime was committed the most in SQL City within the database date range? Save your query as a dataframe and quickly add a bar graph visual to support your recommendation."
   ]
  },
  {
   "cell_type": "code",
   "execution_count": 172,
   "id": "2079946e",
   "metadata": {},
   "outputs": [
    {
     "data": {
      "text/html": [
       "<div>\n",
       "<style scoped>\n",
       "    .dataframe tbody tr th:only-of-type {\n",
       "        vertical-align: middle;\n",
       "    }\n",
       "\n",
       "    .dataframe tbody tr th {\n",
       "        vertical-align: top;\n",
       "    }\n",
       "\n",
       "    .dataframe thead th {\n",
       "        text-align: right;\n",
       "    }\n",
       "</style>\n",
       "<table border=\"1\" class=\"dataframe\">\n",
       "  <thead>\n",
       "    <tr style=\"text-align: right;\">\n",
       "      <th></th>\n",
       "      <th>type</th>\n",
       "      <th>crime</th>\n",
       "    </tr>\n",
       "  </thead>\n",
       "  <tbody>\n",
       "    <tr>\n",
       "      <th>0</th>\n",
       "      <td>murder</td>\n",
       "      <td>148</td>\n",
       "    </tr>\n",
       "    <tr>\n",
       "      <th>1</th>\n",
       "      <td>arson</td>\n",
       "      <td>148</td>\n",
       "    </tr>\n",
       "    <tr>\n",
       "      <th>2</th>\n",
       "      <td>assault</td>\n",
       "      <td>145</td>\n",
       "    </tr>\n",
       "    <tr>\n",
       "      <th>3</th>\n",
       "      <td>theft</td>\n",
       "      <td>141</td>\n",
       "    </tr>\n",
       "    <tr>\n",
       "      <th>4</th>\n",
       "      <td>bribery</td>\n",
       "      <td>135</td>\n",
       "    </tr>\n",
       "    <tr>\n",
       "      <th>5</th>\n",
       "      <td>robbery</td>\n",
       "      <td>134</td>\n",
       "    </tr>\n",
       "    <tr>\n",
       "      <th>6</th>\n",
       "      <td>fraud</td>\n",
       "      <td>130</td>\n",
       "    </tr>\n",
       "    <tr>\n",
       "      <th>7</th>\n",
       "      <td>blackmail</td>\n",
       "      <td>130</td>\n",
       "    </tr>\n",
       "    <tr>\n",
       "      <th>8</th>\n",
       "      <td>smuggling</td>\n",
       "      <td>117</td>\n",
       "    </tr>\n",
       "  </tbody>\n",
       "</table>\n",
       "</div>"
      ],
      "text/plain": [
       "        type  crime\n",
       "0     murder    148\n",
       "1      arson    148\n",
       "2    assault    145\n",
       "3      theft    141\n",
       "4    bribery    135\n",
       "5    robbery    134\n",
       "6      fraud    130\n",
       "7  blackmail    130\n",
       "8  smuggling    117"
      ]
     },
     "execution_count": 172,
     "metadata": {},
     "output_type": "execute_result"
    }
   ],
   "source": [
    "#make a connection to the database using the engine\n",
    "with engine.connect() as connection:\n",
    "    #defining the query to count the types of crimes (list them crime when returning) and group them by type and descending order\n",
    "    query = text(\"\"\"SELECT type, COUNT (*) as crime\n",
    "                    FROM crime_scene_report\n",
    "                    GROUP BY type \n",
    "                    ORDER BY crime DESC\n",
    "                \"\"\")\n",
    " #perform the query and store them in a pandas dataframe\n",
    "    top_crimes = pd.read_sql(query, connection)\n",
    "top_crimes"
   ]
  },
  {
   "cell_type": "code",
   "execution_count": 174,
   "id": "e99bfad0",
   "metadata": {
    "collapsed": true,
    "jupyter": {
     "outputs_hidden": true
    }
   },
   "outputs": [
    {
     "name": "stderr",
     "output_type": "stream",
     "text": [
      "C:\\Users\\parni\\AppData\\Local\\Temp\\ipykernel_6924\\2982949135.py:9: UserWarning: The palette list has more values (9) than needed (7), which may not be intended.\n",
      "  sns.barplot(\n"
     ]
    },
    {
     "data": {
      "image/png": "[encoded data removed]",
      "text/plain": [
       "<Figure size 1200x600 with 1 Axes>"
      ]
     },
     "metadata": {},
     "output_type": "display_data"
    }
   ],
   "source": [
    "# Graph your results:\n",
    "# Set the figure size\n",
    "plt.figure(figsize=(12, 6))\n",
    "\n",
    "# Create a color gradient using the \"Reds\" colormap (darkest = highest crime)\n",
    "colors = sns.color_palette(\"Reds\", len(top_crimes))\n",
    "\n",
    "# Create the bar plot, from the top_crimes variable, define x and y axis the color will be based on the group of crimes not the number of crimes, remove the legends \n",
    "sns.barplot(\n",
    "    data=top_crimes, \n",
    "    x=\"crime\", \n",
    "    y=\"type\", \n",
    "    hue=\"crime\",\n",
    "    palette=colors,\n",
    "    legend=False\n",
    ")\n",
    "\n",
    "# Add labels and title\n",
    "plt.xlabel(\"Number of Crimes\", fontsize=12)\n",
    "plt.ylabel(\"Crime\", fontsize=12)\n",
    "plt.title(\"Top Reported Crimes reported in SQL City\", fontsize=14, fontweight=\"bold\")\n",
    "\n",
    "# Add grid for better readability\n",
    "plt.grid(axis=\"x\", linestyle=\"--\", alpha=0.5)\n",
    "\n",
    "# Show the plot\n",
    "plt.show()"
   ]
  },
  {
   "cell_type": "markdown",
   "id": "537bce0a-f25d-42fd-aed6-784ca660e6c6",
   "metadata": {},
   "source": [
    "As highlighted in the bar chart, there are 2 crimes that have the highest rates in SQL city which are **murder and arson**. The officers would need to get extra training for both types of crimes as they have the same rate of occurance. "
   ]
  },
  {
   "cell_type": "markdown",
   "id": "a8007ef0",
   "metadata": {},
   "source": [
    "Answer:"
   ]
  },
  {
   "cell_type": "markdown",
   "id": "f8df6bf8",
   "metadata": {},
   "source": [
    "<b>Objective 2:</b> The town has also received more funding to encourage DOUBLE overtime for officers in SQL City during the month with the highest crime rate through out the date range of the database. What month would you advise the town to encourage officer overtime?"
   ]
  },
  {
   "cell_type": "code",
   "execution_count": 49,
   "id": "02dcba2e",
   "metadata": {},
   "outputs": [
    {
     "name": "stdout",
     "output_type": "stream",
     "text": [
      "          date     type                                        description  \\\n",
      "0     20180115  robbery  A Man Dressed as Spider-Man Is on a Robbery Spree   \n",
      "1     20180115   murder                  Life? Dont talk to me about life.   \n",
      "2     20180115   murder  Mama, I killed a man, put a gun against his he...   \n",
      "3     20180215   murder                         REDACTED REDACTED REDACTED   \n",
      "4     20180215   murder  Someone killed the guard! He took an arrow to ...   \n",
      "...        ...      ...                                                ...   \n",
      "1223  20180430  bribery                                                 \\n   \n",
      "1224  20180430    fraud                  ‘Why not?’ said the March Hare.\\n   \n",
      "1225  20180430  assault                                                 \\n   \n",
      "1226  20180501  assault  be NO mistake about it: it was neither more no...   \n",
      "1227  20180115   murder  Security footage shows that there were 2 witne...   \n",
      "\n",
      "              city  \n",
      "0              NYC  \n",
      "1           Albany  \n",
      "2             Reno  \n",
      "3         SQL City  \n",
      "4         SQL City  \n",
      "...            ...  \n",
      "1223  Garden Grove  \n",
      "1224         Houma  \n",
      "1225       Fontana  \n",
      "1226       Trenton  \n",
      "1227      SQL City  \n",
      "\n",
      "[1228 rows x 4 columns]\n"
     ]
    }
   ],
   "source": [
    "#create a dataframe to store the crime scene report from the engine datebase \n",
    "#see the format for date \n",
    "df = pd.read_sql(\"SELECT * FROM crime_scene_report;\", engine)\n",
    "print(df)"
   ]
  },
  {
   "cell_type": "code",
   "execution_count": 176,
   "id": "884ffff4-2e92-4189-9697-3c14f8708485",
   "metadata": {},
   "outputs": [
    {
     "data": {
      "text/html": [
       "<div>\n",
       "<style scoped>\n",
       "    .dataframe tbody tr th:only-of-type {\n",
       "        vertical-align: middle;\n",
       "    }\n",
       "\n",
       "    .dataframe tbody tr th {\n",
       "        vertical-align: top;\n",
       "    }\n",
       "\n",
       "    .dataframe thead th {\n",
       "        text-align: right;\n",
       "    }\n",
       "</style>\n",
       "<table border=\"1\" class=\"dataframe\">\n",
       "  <thead>\n",
       "    <tr style=\"text-align: right;\">\n",
       "      <th></th>\n",
       "      <th>month</th>\n",
       "      <th>crime_count</th>\n",
       "    </tr>\n",
       "  </thead>\n",
       "  <tbody>\n",
       "    <tr>\n",
       "      <th>0</th>\n",
       "      <td>01</td>\n",
       "      <td>179</td>\n",
       "    </tr>\n",
       "    <tr>\n",
       "      <th>1</th>\n",
       "      <td>04</td>\n",
       "      <td>159</td>\n",
       "    </tr>\n",
       "    <tr>\n",
       "      <th>2</th>\n",
       "      <td>03</td>\n",
       "      <td>147</td>\n",
       "    </tr>\n",
       "    <tr>\n",
       "      <th>3</th>\n",
       "      <td>02</td>\n",
       "      <td>134</td>\n",
       "    </tr>\n",
       "    <tr>\n",
       "      <th>4</th>\n",
       "      <td>06</td>\n",
       "      <td>89</td>\n",
       "    </tr>\n",
       "    <tr>\n",
       "      <th>5</th>\n",
       "      <td>11</td>\n",
       "      <td>88</td>\n",
       "    </tr>\n",
       "    <tr>\n",
       "      <th>6</th>\n",
       "      <td>09</td>\n",
       "      <td>85</td>\n",
       "    </tr>\n",
       "    <tr>\n",
       "      <th>7</th>\n",
       "      <td>10</td>\n",
       "      <td>75</td>\n",
       "    </tr>\n",
       "    <tr>\n",
       "      <th>8</th>\n",
       "      <td>05</td>\n",
       "      <td>74</td>\n",
       "    </tr>\n",
       "    <tr>\n",
       "      <th>9</th>\n",
       "      <td>12</td>\n",
       "      <td>71</td>\n",
       "    </tr>\n",
       "    <tr>\n",
       "      <th>10</th>\n",
       "      <td>07</td>\n",
       "      <td>67</td>\n",
       "    </tr>\n",
       "    <tr>\n",
       "      <th>11</th>\n",
       "      <td>08</td>\n",
       "      <td>60</td>\n",
       "    </tr>\n",
       "  </tbody>\n",
       "</table>\n",
       "</div>"
      ],
      "text/plain": [
       "   month  crime_count\n",
       "0     01          179\n",
       "1     04          159\n",
       "2     03          147\n",
       "3     02          134\n",
       "4     06           89\n",
       "5     11           88\n",
       "6     09           85\n",
       "7     10           75\n",
       "8     05           74\n",
       "9     12           71\n",
       "10    07           67\n",
       "11    08           60"
      ]
     },
     "execution_count": 176,
     "metadata": {},
     "output_type": "execute_result"
    }
   ],
   "source": [
    "#make a connection to the database using the engine\n",
    "with engine.connect() as connection:\n",
    "    #defining the query  in the date column take the month numbers from the 5th number and 2 digits, count the number of times for each month and group them descedning order \n",
    "    query = text(\"\"\"SELECT SUBSTRING(date, 5, 2) AS month,\n",
    "                        COUNT(*) AS crime_count\n",
    "                    FROM crime_scene_report \n",
    "                    GROUP BY month\n",
    "                    ORDER BY crime_count DESC;\n",
    "                \"\"\")\n",
    " #perform the query and store them in a pandas dataframe\n",
    "    top_crime_months = pd.read_sql(query, connection)\n",
    "top_crime_months"
   ]
  },
  {
   "cell_type": "markdown",
   "id": "f4679e27-7e24-4815-8e37-9f1c8ba1f96e",
   "metadata": {},
   "source": [
    "Officer overtime should be encouraged in **Janurary** as most crimes have occured in this month. "
   ]
  },
  {
   "cell_type": "markdown",
   "id": "b5524834",
   "metadata": {},
   "source": [
    "Answer:"
   ]
  },
  {
   "cell_type": "markdown",
   "id": "51313b07",
   "metadata": {},
   "source": [
    "<b>Objective 3:</b> To thank the officers for their extra training and overtime, the town will pay for their monthly gym membership. They want to give the officers the membership that the least amount of civilians have to avoid being recognized daily as the town heros. The membership can be used in any town. What membership does the town give them?"
   ]
  },
  {
   "cell_type": "code",
   "execution_count": 107,
   "id": "ee8edce5-6e1e-47d3-a103-113a494890bf",
   "metadata": {},
   "outputs": [
    {
     "name": "stdout",
     "output_type": "stream",
     "text": [
      "        id  person_id                name  membership_start_date  \\\n",
      "0    NL318      65076     Everette Koepke               20170926   \n",
      "1    AOE21      39426        Noe Locascio               20171005   \n",
      "2    2PN28      63823  Jeromy Heitschmidt               20180215   \n",
      "3    0YJ24      80651      Waneta Wellard               20171206   \n",
      "4    3A08L      32858        Mei Bianchin               20170401   \n",
      "..     ...        ...                 ...                    ...   \n",
      "179  2V137      41693      Wendell Dulany               20171219   \n",
      "180  4KB72      79110          Emile Hege               20170522   \n",
      "181  48Z7A      28819        Joe Germuska               20160305   \n",
      "182  48Z55      67318       Jeremy Bowers               20160101   \n",
      "183  90081      16371      Annabel Miller               20160208   \n",
      "\n",
      "    membership_status  \n",
      "0                gold  \n",
      "1             regular  \n",
      "2              silver  \n",
      "3                gold  \n",
      "4              silver  \n",
      "..                ...  \n",
      "179            silver  \n",
      "180           regular  \n",
      "181              gold  \n",
      "182              gold  \n",
      "183              gold  \n",
      "\n",
      "[184 rows x 5 columns]\n"
     ]
    }
   ],
   "source": [
    "#create a dataframe to store the get fir now member from the engine datebase \n",
    "df = pd.read_sql(\"SELECT * FROM get_fit_now_member;\", engine)\n",
    "print(df)"
   ]
  },
  {
   "cell_type": "code",
   "execution_count": 178,
   "id": "38d6c923-acd7-434b-9d13-bc8fd9fc2c66",
   "metadata": {},
   "outputs": [
    {
     "data": {
      "text/html": [
       "<div>\n",
       "<style scoped>\n",
       "    .dataframe tbody tr th:only-of-type {\n",
       "        vertical-align: middle;\n",
       "    }\n",
       "\n",
       "    .dataframe tbody tr th {\n",
       "        vertical-align: top;\n",
       "    }\n",
       "\n",
       "    .dataframe thead th {\n",
       "        text-align: right;\n",
       "    }\n",
       "</style>\n",
       "<table border=\"1\" class=\"dataframe\">\n",
       "  <thead>\n",
       "    <tr style=\"text-align: right;\">\n",
       "      <th></th>\n",
       "      <th>membership_status</th>\n",
       "      <th>membership_count</th>\n",
       "    </tr>\n",
       "  </thead>\n",
       "  <tbody>\n",
       "    <tr>\n",
       "      <th>0</th>\n",
       "      <td>regular</td>\n",
       "      <td>53</td>\n",
       "    </tr>\n",
       "    <tr>\n",
       "      <th>1</th>\n",
       "      <td>silver</td>\n",
       "      <td>63</td>\n",
       "    </tr>\n",
       "    <tr>\n",
       "      <th>2</th>\n",
       "      <td>gold</td>\n",
       "      <td>68</td>\n",
       "    </tr>\n",
       "  </tbody>\n",
       "</table>\n",
       "</div>"
      ],
      "text/plain": [
       "  membership_status  membership_count\n",
       "0           regular                53\n",
       "1            silver                63\n",
       "2              gold                68"
      ]
     },
     "execution_count": 178,
     "metadata": {},
     "output_type": "execute_result"
    }
   ],
   "source": [
    "#make a connection to the database using the engine\n",
    "with engine.connect() as connection:\n",
    "    #define query to chose the membership_status column and count each from get fit now member table and group them by memeberships in ascending order \n",
    "    query = text(\"\"\"SELECT membership_status, COUNT (*) as membership_count  -- count membership status \n",
    "                    FROM get_fit_now_member -- from the table \n",
    "                    GROUP BY membership_status -- group the results by the status types \n",
    "                    ORDER BY membership_count ASC;  -- put in descending order \n",
    "                \"\"\")\n",
    " #perform the query and store them in a pandas dataframe\n",
    "    top_memberships = pd.read_sql(query, connection)\n",
    "top_memberships"
   ]
  },
  {
   "cell_type": "markdown",
   "id": "d3519f15",
   "metadata": {},
   "source": [
    "There are least registered memberships are regular. To reward the officers for their work they should give them the **regular membership** because the least amount of civilians have it and the officers won't get distubred while excersing. "
   ]
  },
  {
   "cell_type": "code",
   "execution_count": 117,
   "id": "68e82785",
   "metadata": {},
   "outputs": [],
   "source": [
    "#Disconnect from the database. Always remember to disconnect :) \n",
    "connection.close() "
   ]
  }
 ],
 "metadata": {
  "kernelspec": {
   "display_name": "Python [conda env:base] *",
   "language": "python",
   "name": "conda-base-py"
  },
  "language_info": {
   "codemirror_mode": {
    "name": "ipython",
    "version": 3
   },
   "file_extension": ".py",
   "mimetype": "text/x-python",
   "name": "python",
   "nbconvert_exporter": "python",
   "pygments_lexer": "ipython3",
   "version": "3.12.7"
  }
 },
 "nbformat": 4,
 "nbformat_minor": 5
}
